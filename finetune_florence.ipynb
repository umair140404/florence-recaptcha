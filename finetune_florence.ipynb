{
  "cells": [
    {
      "cell_type": "markdown",
      "metadata": {},
      "source": [
        "# Load the model\n"
      ]
    },
    {
      "cell_type": "code",
      "execution_count": 1,
      "metadata": {},
      "outputs": [],
      "source": [
        "from transformers import AutoModelForCausalLM, AutoProcessor\n",
        "import torch"
      ]
    },
    {
      "cell_type": "code",
      "execution_count": 2,
      "metadata": {},
      "outputs": [
        {
          "name": "stdout",
          "output_type": "stream",
          "text": [
            "CUDA Device Name: NVIDIA GeForce GTX 1660 Ti\n"
          ]
        }
      ],
      "source": [
        "device = torch.device(\"cuda\" if torch.cuda.is_available() else \"cpu\")\n",
        "\n",
        "if device.type == \"cuda\":\n",
        "    print(\"CUDA Device Name:\", torch.cuda.get_device_name(device.index))\n",
        "else:\n",
        "    print(\"No CUDA device available.\")"
      ]
    },
    {
      "cell_type": "code",
      "execution_count": 3,
      "metadata": {},
      "outputs": [
        {
          "name": "stderr",
          "output_type": "stream",
          "text": [
            "/home/umair/anaconda3/envs/florence-recaptcha/lib/python3.10/site-packages/transformers/tokenization_utils_base.py:1601: FutureWarning: `clean_up_tokenization_spaces` was not set. It will be set to `True` by default. This behavior will be depracted in transformers v4.45, and will be then set to `False` by default. For more details check this issue: https://github.com/huggingface/transformers/issues/31884\n",
            "  warnings.warn(\n"
          ]
        }
      ],
      "source": [
        "model = AutoModelForCausalLM.from_pretrained(\n",
        "    \"microsoft/Florence-2-base-ft\",\n",
        "    trust_remote_code=True,\n",
        "    torch_dtype=torch.bfloat16,\n",
        "    revision='refs/pr/6'\n",
        ").to(device)\n",
        "processor = AutoProcessor.from_pretrained(\"microsoft/Florence-2-base-ft\",\n",
        "    trust_remote_code=True, revision='refs/pr/6')\n",
        "\n",
        "for param in model.vision_tower.parameters():\n",
        "  param.is_trainable = False"
      ]
    },
    {
      "cell_type": "markdown",
      "metadata": {
        "id": "JNr7dtQkUyDp"
      },
      "source": [
        "# Create the Dataset\n"
      ]
    },
    {
      "cell_type": "code",
      "execution_count": 4,
      "metadata": {
        "id": "-Mgq1IlVVGS8"
      },
      "outputs": [],
      "source": [
        "# !unzip \"/content/drive/MyDrive/GitHub Projects/Google_Recaptcha_V2_Images_Dataset.zip\" -d /content/dataset"
      ]
    },
    {
      "cell_type": "code",
      "execution_count": 5,
      "metadata": {
        "id": "-CMSchgzVsQ8"
      },
      "outputs": [],
      "source": [
        "import pandas as pd\n",
        "import os\n",
        "from tqdm import tqdm\n",
        "from matplotlib import pyplot as plt\n",
        "\n",
        "plt.style.use('ggplot')"
      ]
    },
    {
      "cell_type": "code",
      "execution_count": 6,
      "metadata": {
        "id": "oNWDbLVUVJIa"
      },
      "outputs": [],
      "source": [
        "DATASET_ROOT_DIR = \"Google_Recaptcha_V2_Images_Dataset\""
      ]
    },
    {
      "cell_type": "code",
      "execution_count": 7,
      "metadata": {
        "colab": {
          "base_uri": "https://localhost:8080/"
        },
        "id": "Dz1wjqxMVjV4",
        "outputId": "a46b5bc1-951c-4196-a77d-da947595acb2"
      },
      "outputs": [],
      "source": [
        "def create_csv(dataset_dir, save_path):\n",
        "    classes = os.listdir(os.path.join(dataset_dir, 'images'))\n",
        "\n",
        "    dataset = {'filepath': [], 'label': []}\n",
        "\n",
        "    for c in tqdm(classes):\n",
        "        if c == \"Other\":\n",
        "            continue\n",
        "\n",
        "        filepaths = [os.path.join('images', c, path) for path in os.listdir(os.path.join(dataset_dir, 'images', c))]\n",
        "\n",
        "        dataset['filepath'].extend(filepaths)\n",
        "        dataset['label'].extend([c] * len(filepaths))\n",
        "\n",
        "    df = pd.DataFrame(dataset)\n",
        "    df.to_csv(save_path, index=False)\n",
        "\n",
        "    return df\n",
        "\n",
        "# df = create_csv(DATASET_ROOT_DIR, 'dataset.csv')\n",
        "\n",
        "df = pd.read_csv('dataset.csv')"
      ]
    },
    {
      "cell_type": "markdown",
      "metadata": {
        "id": "HpDHaMhac_LR"
      },
      "source": [
        "### To remove later when fully training\n"
      ]
    },
    {
      "cell_type": "code",
      "execution_count": 8,
      "metadata": {
        "id": "3TqTvzkFc-84"
      },
      "outputs": [],
      "source": [
        "car_df = df[df['label'] == \"Car\"]\n",
        "sampled_car_df = car_df.sample(frac=0.7, random_state=42)\n",
        "df = df[~df.index.isin(sampled_car_df.index)]"
      ]
    },
    {
      "cell_type": "markdown",
      "metadata": {
        "id": "n15HcIGDdI-d"
      },
      "source": [
        "## Class distribution\n"
      ]
    },
    {
      "cell_type": "code",
      "execution_count": 9,
      "metadata": {
        "colab": {
          "base_uri": "https://localhost:8080/",
          "height": 544
        },
        "id": "UhuDGFH-YQKr",
        "outputId": "9d314251-fc87-4df6-8f98-44476e7ced67"
      },
      "outputs": [
        {
          "data": {
            "image/png": "[encoded data removed]",
            "text/plain": [
              "<Figure size 640x480 with 1 Axes>"
            ]
          },
          "metadata": {},
          "output_type": "display_data"
        }
      ],
      "source": [
        "df['label'].value_counts().plot(kind='bar')\n",
        "plt.xlabel('Classes')\n",
        "plt.ylabel('Count')\n",
        "plt.title('Class Distribution')\n",
        "plt.show()"
      ]
    },
    {
      "cell_type": "markdown",
      "metadata": {
        "id": "-35Z4XuBbahw"
      },
      "source": [
        "## Train, Test, Val Splits\n"
      ]
    },
    {
      "cell_type": "code",
      "execution_count": 10,
      "metadata": {
        "colab": {
          "base_uri": "https://localhost:8080/"
        },
        "id": "xyVDlLfca59x",
        "outputId": "12024dcf-33a6-4972-cf74-e0013e2ab028"
      },
      "outputs": [
        {
          "name": "stdout",
          "output_type": "stream",
          "text": [
            "Train size: 3159\n",
            "Test size: 3160\n",
            "Val size: 1580\n"
          ]
        }
      ],
      "source": [
        "from sklearn.model_selection import train_test_split\n",
        "\n",
        "def split_dataframe(df, test_fraction=0.2, val_fraction=0.1):\n",
        "    train_df, temp_df = train_test_split(df, test_size=test_fraction + val_fraction, random_state=42)\n",
        "    val_relative_fraction = val_fraction / (test_fraction + val_fraction)\n",
        "    test_df, val_df = train_test_split(temp_df, test_size=val_relative_fraction, random_state=42)\n",
        "\n",
        "    return train_df, test_df, val_df\n",
        "\n",
        "train_df, test_df, val_df = split_dataframe(df, test_fraction=0.4, val_fraction=0.2)\n",
        "\n",
        "print(f\"Train size: {len(train_df)}\")\n",
        "print(f\"Test size: {len(test_df)}\")\n",
        "print(f\"Val size: {len(val_df)}\")"
      ]
    },
    {
      "cell_type": "markdown",
      "metadata": {
        "id": "H6T8ERibbdKA"
      },
      "source": [
        "## Pytorch Dataset and Collate Function\n"
      ]
    },
    {
      "cell_type": "code",
      "execution_count": 11,
      "metadata": {
        "id": "HQkojvN5UuP0"
      },
      "outputs": [],
      "source": [
        "import torch\n",
        "from torch.utils.data import Dataset\n",
        "from PIL import Image\n",
        "\n",
        "class CaptchDataset(Dataset):\n",
        "    def __init__(self, data, root_dir):\n",
        "        self.data = data\n",
        "        self.root_dir = root_dir\n",
        "\n",
        "    def __len__(self):\n",
        "        return len(self.data)\n",
        "\n",
        "    def __getitem__(self, idx):\n",
        "        example = self.data.iloc[idx]\n",
        "\n",
        "        tag = \"<recaptcha>\"\n",
        "        label = example['label']\n",
        "\n",
        "        filepath = os.path.join(self.root_dir, example['filepath'])\n",
        "        image = Image.open(filepath)\n",
        "        image = image.convert(\"RGB\")\n",
        "\n",
        "        return tag, label, image"
      ]
    },
    {
      "cell_type": "code",
      "execution_count": 12,
      "metadata": {
        "id": "Ck2ouK6GaZ22"
      },
      "outputs": [],
      "source": [
        "from torch.utils.data import DataLoader\n",
        "from transformers import get_scheduler\n",
        "from torch.optim import AdamW\n",
        "\n",
        "def collate_fn(batch):\n",
        "    tags, labels, images = zip(*batch)\n",
        "    inputs = processor(text=list(tags), images=list(images), return_tensors=\"pt\", padding=True).to(device)\n",
        "    return inputs, labels\n",
        "\n",
        "train_dataset = CaptchDataset(train_df, DATASET_ROOT_DIR)\n",
        "val_dataset = CaptchDataset(val_df, DATASET_ROOT_DIR)\n",
        "batch_size = 2\n",
        "num_workers = 0\n",
        "\n",
        "train_loader = DataLoader(train_dataset, batch_size=batch_size,\n",
        "                          collate_fn=collate_fn, num_workers=num_workers, shuffle=True)\n",
        "val_loader = DataLoader(val_dataset, batch_size=batch_size,\n",
        "                          collate_fn=collate_fn, num_workers=num_workers)"
      ]
    },
    {
      "cell_type": "markdown",
      "metadata": {
        "id": "ibXFGB8xbXdc"
      },
      "source": [
        "# Training\n"
      ]
    },
    {
      "cell_type": "code",
      "execution_count": 13,
      "metadata": {},
      "outputs": [],
      "source": [
        "import json"
      ]
    },
    {
      "cell_type": "code",
      "execution_count": 14,
      "metadata": {},
      "outputs": [],
      "source": [
        "def train_one_epoch(epoch, n_epochs, optimizer, lr_scheduler):\n",
        "    model.train()\n",
        "    train_loss = 0\n",
        "    i = -1\n",
        "    for inputs, answers in tqdm(train_loader, desc=f\"Training Epoch {epoch}/{n_epochs}\"):\n",
        "        i += 1\n",
        "        input_ids = inputs[\"input_ids\"]\n",
        "        pixel_values = inputs[\"pixel_values\"].to(torch.bfloat16)\n",
        "        labels = processor.tokenizer(text=answers, return_tensors=\"pt\", padding=True, return_token_type_ids=False).input_ids.to(device)\n",
        "        outputs = model(input_ids=input_ids, pixel_values=pixel_values, labels=labels)\n",
        "        loss = outputs.loss\n",
        "        loss.backward()\n",
        "        optimizer.step()\n",
        "        lr_scheduler.step()\n",
        "        optimizer.zero_grad()\n",
        "        train_loss += loss.item()\n",
        "    avg_train_loss = train_loss / len(train_loader)\n",
        "    print(f\"Average Training Loss: {avg_train_loss}\\n\")\n",
        "\n",
        "    model.eval()\n",
        "    val_loss = 0\n",
        "    with torch.no_grad():\n",
        "        for batch in tqdm(val_loader, desc=f\"Validation Epoch {epoch}/{n_epochs}\"):\n",
        "            inputs, answers = batch\n",
        "            input_ids = inputs[\"input_ids\"]\n",
        "            pixel_values = inputs[\"pixel_values\"].to(torch.bfloat16)\n",
        "            labels = processor.tokenizer(text=answers, return_tensors=\"pt\", padding=True, return_token_type_ids=False).input_ids.to(device)\n",
        "            outputs = model(input_ids=input_ids, pixel_values=pixel_values, labels=labels)\n",
        "            loss = outputs.loss\n",
        "            val_loss += loss.item()\n",
        "\n",
        "    avg_val_loss = val_loss / len(val_loader)\n",
        "    print(f\"Average Validation Loss: {avg_val_loss}\\n\")\n",
        "\n",
        "    return avg_train_loss, avg_val_loss"
      ]
    },
    {
      "cell_type": "code",
      "execution_count": 15,
      "metadata": {},
      "outputs": [],
      "source": [
        "def create_exp_dir(output_dir):\n",
        "    os.makedirs(output_dir, exist_ok=True)\n",
        "\n",
        "    exp_dirs = [d for d in os.listdir(output_dir) if d.startswith(\"exp_\")]\n",
        "    if exp_dirs:\n",
        "        latest_exp_num = max(int(d.split(\"_\")[1]) for d in exp_dirs)\n",
        "    else:\n",
        "        latest_exp_num = 0\n",
        "\n",
        "    new_exp_num = latest_exp_num + 1\n",
        "    exp_dir = os.path.join(output_dir, f\"exp_{new_exp_num}\")\n",
        "    os.makedirs(exp_dir, exist_ok=True)\n",
        "\n",
        "    return exp_dir"
      ]
    },
    {
      "cell_type": "code",
      "execution_count": 16,
      "metadata": {},
      "outputs": [],
      "source": [
        "def save_plot(n_epochs, history, exp_dir):\n",
        "    plt.figure()\n",
        "    plt.plot(range(1, n_epochs + 1), history['train_loss'], label='Training Loss')\n",
        "    plt.plot(range(1, n_epochs + 1), history['val_loss'], label='Validation Loss')\n",
        "    plt.xlabel('Epoch')\n",
        "    plt.ylabel('Loss')\n",
        "    plt.title('Training and Validation Loss Over Time')\n",
        "    plt.grid(True)\n",
        "    plt.legend()\n",
        "    plt.savefig(os.path.join(exp_dir, 'plot.png'))\n",
        "    plt.close()"
      ]
    },
    {
      "cell_type": "code",
      "execution_count": 17,
      "metadata": {},
      "outputs": [],
      "source": [
        "def train_and_save(n_epochs, optimizer, lr_scheduler, output_dir='results'):\n",
        "    exp_dir = create_exp_dir(output_dir)\n",
        "\n",
        "    best_loss = float('inf')\n",
        "    history = {'train_loss': [], 'val_loss': []}\n",
        "    \n",
        "    for epoch in range(1, n_epochs + 1):\n",
        "        avg_train_loss, avg_val_loss = train_one_epoch(epoch, n_epochs, optimizer, lr_scheduler)\n",
        "        \n",
        "        history['train_loss'].append(avg_train_loss)\n",
        "        history['val_loss'].append(avg_val_loss)\n",
        "        \n",
        "        if avg_val_loss < best_loss:\n",
        "            best_loss = avg_val_loss\n",
        "            torch.save(model.state_dict(), os.path.join(exp_dir, 'weights', f'best_model.pth'))\n",
        "\n",
        "        with open(os.path.join(exp_dir, 'history.json'), 'w') as f:\n",
        "            json.dump(history, f, indent=2)\n",
        "    \n",
        "    torch.save(model.state_dict(), os.path.join(exp_dir, 'weights', f\"final_epoch_{n_epochs}.pth\"))\n",
        "\n",
        "    save_plot(n_epochs, history, exp_dir)"
      ]
    },
    {
      "cell_type": "code",
      "execution_count": 18,
      "metadata": {
        "colab": {
          "base_uri": "https://localhost:8080/",
          "height": 706
        },
        "id": "QcGNwh1ZbVox",
        "outputId": "60be2baf-c4cd-4f71-8ee7-4f7e174c4439"
      },
      "outputs": [],
      "source": [
        "EPOCHS = 5\n",
        "optimizer = AdamW(model.parameters(), lr=1e-6)\n",
        "num_training_steps = EPOCHS * len(train_loader)\n",
        "\n",
        "lr_scheduler = get_scheduler(name=\"linear\", optimizer=optimizer,\n",
        "                              num_warmup_steps=0, num_training_steps=num_training_steps)"
      ]
    },
    {
      "cell_type": "code",
      "execution_count": 19,
      "metadata": {},
      "outputs": [
        {
          "name": "stderr",
          "output_type": "stream",
          "text": [
            "Training Epoch 1/5: 100%|██████████| 1580/1580 [42:29<00:00,  1.61s/it]\n"
          ]
        },
        {
          "name": "stdout",
          "output_type": "stream",
          "text": [
            "Average Training Loss: 4.715407436708861\n",
            "\n"
          ]
        },
        {
          "name": "stderr",
          "output_type": "stream",
          "text": [
            "Validation Epoch 1/5: 100%|██████████| 790/790 [07:03<00:00,  1.87it/s]\n"
          ]
        },
        {
          "name": "stdout",
          "output_type": "stream",
          "text": [
            "Average Validation Loss: 4.3208465189873415\n",
            "\n"
          ]
        },
        {
          "name": "stderr",
          "output_type": "stream",
          "text": [
            "Training Epoch 2/5: 100%|██████████| 1580/1580 [40:46<00:00,  1.55s/it]\n"
          ]
        },
        {
          "name": "stdout",
          "output_type": "stream",
          "text": [
            "Average Training Loss: 4.451211431962025\n",
            "\n"
          ]
        },
        {
          "name": "stderr",
          "output_type": "stream",
          "text": [
            "Validation Epoch 2/5: 100%|██████████| 790/790 [06:50<00:00,  1.92it/s]\n"
          ]
        },
        {
          "name": "stdout",
          "output_type": "stream",
          "text": [
            "Average Validation Loss: 4.26339003164557\n",
            "\n"
          ]
        },
        {
          "name": "stderr",
          "output_type": "stream",
          "text": [
            "Training Epoch 3/5: 100%|██████████| 1580/1580 [42:11<00:00,  1.60s/it]\n"
          ]
        },
        {
          "name": "stdout",
          "output_type": "stream",
          "text": [
            "Average Training Loss: 4.450736748417722\n",
            "\n"
          ]
        },
        {
          "name": "stderr",
          "output_type": "stream",
          "text": [
            "Validation Epoch 3/5: 100%|██████████| 790/790 [07:06<00:00,  1.85it/s]\n"
          ]
        },
        {
          "name": "stdout",
          "output_type": "stream",
          "text": [
            "Average Validation Loss: 4.259305775316456\n",
            "\n"
          ]
        },
        {
          "name": "stderr",
          "output_type": "stream",
          "text": [
            "Training Epoch 4/5: 100%|██████████| 1580/1580 [40:46<00:00,  1.55s/it]\n"
          ]
        },
        {
          "name": "stdout",
          "output_type": "stream",
          "text": [
            "Average Training Loss: 4.394585640822785\n",
            "\n"
          ]
        },
        {
          "name": "stderr",
          "output_type": "stream",
          "text": [
            "Validation Epoch 4/5: 100%|██████████| 790/790 [06:53<00:00,  1.91it/s]\n"
          ]
        },
        {
          "name": "stdout",
          "output_type": "stream",
          "text": [
            "Average Validation Loss: 4.259246439873418\n",
            "\n"
          ]
        },
        {
          "name": "stderr",
          "output_type": "stream",
          "text": [
            "Training Epoch 5/5: 100%|██████████| 1580/1580 [42:38<00:00,  1.62s/it]\n"
          ]
        },
        {
          "name": "stdout",
          "output_type": "stream",
          "text": [
            "Average Training Loss: 4.406348892405063\n",
            "\n"
          ]
        },
        {
          "name": "stderr",
          "output_type": "stream",
          "text": [
            "Validation Epoch 5/5: 100%|██████████| 790/790 [07:00<00:00,  1.88it/s]\n"
          ]
        },
        {
          "name": "stdout",
          "output_type": "stream",
          "text": [
            "Average Validation Loss: 4.259325553797468\n",
            "\n"
          ]
        }
      ],
      "source": [
        "train_and_save(EPOCHS, optimizer, lr_scheduler)"
      ]
    }
  ],
  "metadata": {
    "accelerator": "GPU",
    "colab": {
      "gpuType": "T4",
      "provenance": []
    },
    "kernelspec": {
      "display_name": "Python 3",
      "name": "python3"
    },
    "language_info": {
      "codemirror_mode": {
        "name": "ipython",
        "version": 3
      },
      "file_extension": ".py",
      "mimetype": "text/x-python",
      "name": "python",
      "nbconvert_exporter": "python",
      "pygments_lexer": "ipython3",
      "version": "3.10.0"
    }
  },
  "nbformat": 4,
  "nbformat_minor": 0
}
